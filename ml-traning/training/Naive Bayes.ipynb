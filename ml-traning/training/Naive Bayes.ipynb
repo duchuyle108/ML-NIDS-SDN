{
 "cells": [
  {
   "cell_type": "code",
   "execution_count": 29,
   "metadata": {},
   "outputs": [],
   "source": [
    "import pandas as pd\n",
    "import numpy as np\n",
    "from sklearn.naive_bayes import GaussianNB, CategoricalNB\n",
    "from sklearn.preprocessing import LabelEncoder\n",
    "from sklearn.preprocessing import StandardScaler\n",
    "from sklearn.model_selection import train_test_split\n",
    "from sklearn import metrics\n",
    "from sklearn.metrics import confusion_matrix\n",
    "from sklearn.model_selection import cross_val_score"
   ]
  },
  {
   "cell_type": "code",
   "execution_count": 30,
   "metadata": {},
   "outputs": [],
   "source": [
    "data = pd.read_csv(\"../dataset\")\n",
    "x_columns = data.columns.drop('label')\n",
    "x = data[x_columns]\n",
    "x = x.values\n",
    "y = data['label']\n",
    "le_proto = LabelEncoder()\n",
    "x[:, 0] = le_proto.fit_transform(x[:, 0])\n",
    "# le_label = LabelEncoder()\n",
    "# y = le_label.fit_transform(y)\n",
    "# sc = StandardScaler()\n",
    "# x=sc.fit_transform(x)\n",
    "\n",
    "# x_train, x_test, y_train, y_test = train_test_split(x, y, test_size=0.3, random_state=0)"
   ]
  },
  {
   "cell_type": "code",
   "execution_count": 31,
   "metadata": {},
   "outputs": [
    {
     "data": {
      "text/plain": [
       "GaussianNB(priors=None, var_smoothing=1e-09)"
      ]
     },
     "execution_count": 31,
     "metadata": {},
     "output_type": "execute_result"
    }
   ],
   "source": [
    "gnb = GaussianNB()\n",
    "\n",
    "gnb.fit(x, y)"
   ]
  },
  {
   "cell_type": "code",
   "execution_count": 32,
   "metadata": {},
   "outputs": [],
   "source": [
    "datatest = pd.read_csv(\"../datatest\")\n",
    "x_columns = datatest.columns.drop('label')\n",
    "x = datatest[x_columns]\n",
    "x = x.values\n",
    "y = datatest['label']\n",
    "\n",
    "x[:, 0] = le_proto.transform(x[:, 0])\n",
    "#joblib.dump(le_proto, '../preproc/le_proto2.joblib',protocol=1) #save label encoder weights to file\n",
    "# y = le_label.fit_transform(y)\n",
    "#joblib.dump(le_label, '../preproc/le_label2.joblib',protocol=1) #save label encoder weights to file\n",
    "# x=sc.transform(x)\n",
    "#joblib.dump(sc, '../preproc/scaler2.joblib',protocol=1)\n",
    "# x = np.expand_dims(x, axis=2)\n",
    "data = np.array([['icmp',0.31,98,1.0,9,1,1,1.0]])\n",
    "data[:, 0] = le_proto.transform(data[:, 0])\n",
    "data = data.astype(np.float64)\n",
    "y_pred = gnb.predict(data)\n",
    "# y_pred = le_label.inverse_transform(y_pred)\n"
   ]
  },
  {
   "cell_type": "code",
   "execution_count": 5,
   "metadata": {},
   "outputs": [],
   "source": [
    "stats = {}\n",
    "labels = ['normal','tcpsynflood','icmpflood','udpflood','ipsweep','portscan','pingofdeath']\n",
    "for i in labels:\n",
    "    stats[i]={}\n",
    "    for j in labels:\n",
    "        stats[i][j] = 0"
   ]
  },
  {
   "cell_type": "code",
   "execution_count": 6,
   "metadata": {},
   "outputs": [
    {
     "data": {
      "text/plain": [
       "{'normal': {'normal': 751,\n",
       "  'tcpsynflood': 0,\n",
       "  'icmpflood': 21,\n",
       "  'udpflood': 0,\n",
       "  'ipsweep': 90,\n",
       "  'portscan': 376,\n",
       "  'pingofdeath': 4},\n",
       " 'tcpsynflood': {'normal': 0,\n",
       "  'tcpsynflood': 1045,\n",
       "  'icmpflood': 0,\n",
       "  'udpflood': 0,\n",
       "  'ipsweep': 0,\n",
       "  'portscan': 0,\n",
       "  'pingofdeath': 0},\n",
       " 'icmpflood': {'normal': 0,\n",
       "  'tcpsynflood': 0,\n",
       "  'icmpflood': 784,\n",
       "  'udpflood': 0,\n",
       "  'ipsweep': 0,\n",
       "  'portscan': 0,\n",
       "  'pingofdeath': 0},\n",
       " 'udpflood': {'normal': 0,\n",
       "  'tcpsynflood': 0,\n",
       "  'icmpflood': 0,\n",
       "  'udpflood': 821,\n",
       "  'ipsweep': 0,\n",
       "  'portscan': 0,\n",
       "  'pingofdeath': 0},\n",
       " 'ipsweep': {'normal': 0,\n",
       "  'tcpsynflood': 0,\n",
       "  'icmpflood': 0,\n",
       "  'udpflood': 0,\n",
       "  'ipsweep': 647,\n",
       "  'portscan': 0,\n",
       "  'pingofdeath': 0},\n",
       " 'portscan': {'normal': 3,\n",
       "  'tcpsynflood': 103,\n",
       "  'icmpflood': 0,\n",
       "  'udpflood': 0,\n",
       "  'ipsweep': 0,\n",
       "  'portscan': 812,\n",
       "  'pingofdeath': 0},\n",
       " 'pingofdeath': {'normal': 0,\n",
       "  'tcpsynflood': 0,\n",
       "  'icmpflood': 0,\n",
       "  'udpflood': 0,\n",
       "  'ipsweep': 0,\n",
       "  'portscan': 0,\n",
       "  'pingofdeath': 461}}"
      ]
     },
     "execution_count": 6,
     "metadata": {},
     "output_type": "execute_result"
    }
   ],
   "source": [
    "for i in range(len(y)):\n",
    "    stats[y[i]][y_pred[i]] += 1\n",
    "stats"
   ]
  },
  {
   "cell_type": "code",
   "execution_count": 7,
   "metadata": {},
   "outputs": [
    {
     "name": "stdout",
     "output_type": "stream",
     "text": [
      "TPR: \n",
      " {'normal': 0.604669887278583, 'tcpsynflood': 1.0, 'icmpflood': 1.0, 'udpflood': 1.0, 'ipsweep': 1.0, 'portscan': 0.8845315904139434, 'pingofdeath': 1.0}\n",
      "FRP:\n",
      " {'normal': 0.0006415739948674081, 'tcpsynflood': 0.02113687666735071, 'icmpflood': 0.004090377873003506, 'udpflood': 0.0, 'ipsweep': 0.01707455890722823, 'portscan': 0.0752, 'pingofdeath': 0.0007330034817665384}\n",
      "F1-score: \n",
      "{'normal': 0.75250501002004, 'tcpsynflood': 0.9530323757409942, 'icmpflood': 0.9867841409691629, 'udpflood': 1.0, 'ipsweep': 0.934971098265896, 'portscan': 0.7711301044634378, 'pingofdeath': 0.9956803455723543}\n",
      "Accuracy: 0.8991213247718824\n"
     ]
    }
   ],
   "source": [
    "tpr={}\n",
    "fpr={}\n",
    "precision={}\n",
    "f1score={}\n",
    "for i in labels:\n",
    "    tp = stats[i][i]\n",
    "    fp = 0\n",
    "    tn = 0\n",
    "    fn = 0\n",
    "    for j in labels:\n",
    "        if i != j:\n",
    "            fn += stats[i][j]\n",
    "            fp += stats[j][i]\n",
    "            for k in stats[j].keys():\n",
    "                if k != i:\n",
    "                    tn += stats[j][k]\n",
    "    tpr[i] = tp / (tp + fn)\n",
    "    fpr[i] = fp / (fp + tn)\n",
    "    precision[i] = tp / (tp + fp)\n",
    "    f1score[i] = 2/(1/tpr[i] + 1/precision[i])\n",
    "print('TPR: \\n ' + str(tpr))\n",
    "print('FRP:\\n ' + str(fpr))\n",
    "# print('Precision:\\n ' + str(precision))\n",
    "print('F1-score: \\n' + str(f1score))\n",
    "\n",
    "print(\"Accuracy:\",metrics.accuracy_score(y, y_pred))"
   ]
  },
  {
   "cell_type": "code",
   "execution_count": null,
   "metadata": {},
   "outputs": [],
   "source": []
  }
 ],
 "metadata": {
  "kernelspec": {
   "display_name": "Python 3",
   "language": "python",
   "name": "python3"
  },
  "language_info": {
   "codemirror_mode": {
    "name": "ipython",
    "version": 3
   },
   "file_extension": ".py",
   "mimetype": "text/x-python",
   "name": "python",
   "nbconvert_exporter": "python",
   "pygments_lexer": "ipython3",
   "version": "3.7.9"
  }
 },
 "nbformat": 4,
 "nbformat_minor": 4
}
