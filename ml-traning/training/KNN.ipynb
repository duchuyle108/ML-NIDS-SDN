{
 "cells": [
  {
   "cell_type": "code",
   "execution_count": 1,
   "metadata": {},
   "outputs": [],
   "source": [
    "import pandas as pd\n",
    "import numpy as np\n",
    "from sklearn.preprocessing import LabelEncoder\n",
    "from sklearn.preprocessing import StandardScaler\n",
    "from sklearn.model_selection import train_test_split\n",
    "from sklearn import metrics\n",
    "from sklearn.neighbors import KNeighborsClassifier"
   ]
  },
  {
   "cell_type": "code",
   "execution_count": 2,
   "metadata": {},
   "outputs": [],
   "source": [
    "data = pd.read_csv(\"../dataset\")\n",
    "x_columns = data.columns.drop('label')\n",
    "x = data[x_columns]\n",
    "x = x.values\n",
    "y = data['label']\n",
    "le_proto = LabelEncoder()\n",
    "x[:, 0] = le_proto.fit_transform(x[:, 0])\n",
    "# le_label = LabelEncoder()\n",
    "# y = le_label.fit_transform(y)\n",
    "sc = StandardScaler()\n",
    "x=sc.fit_transform(x)\n",
    "\n",
    "# x_train, x_test, y_train, y_test = train_test_split(x, y, test_size=0.3, random_state=0)"
   ]
  },
  {
   "cell_type": "code",
   "execution_count": 3,
   "metadata": {},
   "outputs": [
    {
     "data": {
      "text/plain": [
       "KNeighborsClassifier(algorithm='auto', leaf_size=30, metric='minkowski',\n",
       "                     metric_params=None, n_jobs=None, n_neighbors=7, p=2,\n",
       "                     weights='uniform')"
      ]
     },
     "execution_count": 3,
     "metadata": {},
     "output_type": "execute_result"
    }
   ],
   "source": [
    "knn = KNeighborsClassifier(n_neighbors=7)\n",
    "knn.fit(x, y)"
   ]
  },
  {
   "cell_type": "code",
   "execution_count": 4,
   "metadata": {},
   "outputs": [],
   "source": [
    "# y_pred = knn.predict(x_test)\n",
    "\n",
    "# print(\"Accuracy:\",metrics.accuracy_score(y_test, y_pred))"
   ]
  },
  {
   "cell_type": "code",
   "execution_count": 5,
   "metadata": {},
   "outputs": [
    {
     "data": {
      "text/plain": [
       "{'normal': {'normal': 1219,\n",
       "  'tcpsynflood': 0,\n",
       "  'icmpflood': 11,\n",
       "  'udpflood': 11,\n",
       "  'ipsweep': 0,\n",
       "  'portscan': 1,\n",
       "  'pingofdeath': 0},\n",
       " 'tcpsynflood': {'normal': 80,\n",
       "  'tcpsynflood': 961,\n",
       "  'icmpflood': 0,\n",
       "  'udpflood': 0,\n",
       "  'ipsweep': 0,\n",
       "  'portscan': 4,\n",
       "  'pingofdeath': 0},\n",
       " 'icmpflood': {'normal': 33,\n",
       "  'tcpsynflood': 0,\n",
       "  'icmpflood': 760,\n",
       "  'udpflood': 0,\n",
       "  'ipsweep': 0,\n",
       "  'portscan': 0,\n",
       "  'pingofdeath': 0},\n",
       " 'udpflood': {'normal': 2,\n",
       "  'tcpsynflood': 0,\n",
       "  'icmpflood': 0,\n",
       "  'udpflood': 823,\n",
       "  'ipsweep': 0,\n",
       "  'portscan': 1,\n",
       "  'pingofdeath': 0},\n",
       " 'ipsweep': {'normal': 38,\n",
       "  'tcpsynflood': 0,\n",
       "  'icmpflood': 0,\n",
       "  'udpflood': 0,\n",
       "  'ipsweep': 612,\n",
       "  'portscan': 0,\n",
       "  'pingofdeath': 0},\n",
       " 'portscan': {'normal': 3,\n",
       "  'tcpsynflood': 0,\n",
       "  'icmpflood': 0,\n",
       "  'udpflood': 3,\n",
       "  'ipsweep': 0,\n",
       "  'portscan': 912,\n",
       "  'pingofdeath': 0},\n",
       " 'pingofdeath': {'normal': 11,\n",
       "  'tcpsynflood': 0,\n",
       "  'icmpflood': 7,\n",
       "  'udpflood': 0,\n",
       "  'ipsweep': 0,\n",
       "  'portscan': 0,\n",
       "  'pingofdeath': 450}}"
      ]
     },
     "execution_count": 5,
     "metadata": {},
     "output_type": "execute_result"
    }
   ],
   "source": [
    "datatest = pd.read_csv(\"../datatest\")\n",
    "x_columns = datatest.columns.drop('label')\n",
    "x = datatest[x_columns]\n",
    "x = x.values\n",
    "y = datatest['label']\n",
    "\n",
    "x[:, 0] = le_proto.transform(x[:, 0])\n",
    "x=sc.transform(x)\n",
    "\n",
    "y_pred = knn.predict(x)\n",
    "stats = {}\n",
    "labels = ['normal','tcpsynflood','icmpflood','udpflood','ipsweep','portscan','pingofdeath']\n",
    "for i in labels:\n",
    "    stats[i]={}\n",
    "    for j in labels:\n",
    "        stats[i][j] = 0\n",
    "for i in range(len(y)):\n",
    "    stats[y[i]][y_pred[i]] += 1\n",
    "stats"
   ]
  },
  {
   "cell_type": "code",
   "execution_count": 8,
   "metadata": {},
   "outputs": [
    {
     "name": "stdout",
     "output_type": "stream",
     "text": [
      "TPR: \n",
      " {'normal': 98.14814814814815, 'tcpsynflood': 91.96172248803828, 'icmpflood': 95.83858764186634, 'udpflood': 99.63680387409201, 'ipsweep': 94.15384615384616, 'portscan': 99.34640522875817, 'pingofdeath': 96.15384615384616}\n",
      "FRP:\n",
      " {'normal': 3.553191489361702, 'tcpsynflood': 0.0, 'icmpflood': 0.349582443192853, 'udpflood': 0.2736512900703675, 'ipsweep': 0.0, 'portscan': 0.11942675159235669, 'pingofdeath': 0.0}\n",
      "F1-score: \n",
      "{'normal': 92.77016742770167, 'tcpsynflood': 95.81256231306081, 'icmpflood': 96.75366008911521, 'udpflood': 98.97775105231509, 'ipsweep': 96.98890649762282, 'portscan': 99.34640522875817, 'pingofdeath': 98.0392156862745}\n",
      "Accuracy: 0.9654998317064961\n"
     ]
    }
   ],
   "source": [
    "tpr={}\n",
    "fpr={}\n",
    "precision={}\n",
    "f1score={}\n",
    "for i in labels:\n",
    "    tp = stats[i][i]\n",
    "    fp = 0\n",
    "    tn = 0\n",
    "    fn = 0\n",
    "    for j in labels:\n",
    "        if i != j:\n",
    "            fn += stats[i][j]\n",
    "            fp += stats[j][i]\n",
    "            for k in stats[j].keys():\n",
    "                if k != i:\n",
    "                    tn += stats[j][k]\n",
    "    tpr[i] = tp / (tp + fn) * 100\n",
    "    fpr[i] = fp / (fp + tn) * 100\n",
    "    precision[i] = tp / (tp + fp) * 100\n",
    "    f1score[i] = 2/(1/tpr[i] + 1/precision[i])\n",
    "print('TPR: \\n ' + str(tpr))\n",
    "print('FRP:\\n ' + str(fpr))\n",
    "# print('Precision:\\n ' + str(precision))\n",
    "print('F1-score: \\n' + str(f1score))\n",
    "\n",
    "print(\"Accuracy:\",metrics.accuracy_score(y, y_pred))"
   ]
  },
  {
   "cell_type": "code",
   "execution_count": null,
   "metadata": {},
   "outputs": [],
   "source": []
  }
 ],
 "metadata": {
  "kernelspec": {
   "display_name": "Python 3",
   "language": "python",
   "name": "python3"
  },
  "language_info": {
   "codemirror_mode": {
    "name": "ipython",
    "version": 3
   },
   "file_extension": ".py",
   "mimetype": "text/x-python",
   "name": "python",
   "nbconvert_exporter": "python",
   "pygments_lexer": "ipython3",
   "version": "3.7.9"
  }
 },
 "nbformat": 4,
 "nbformat_minor": 4
}
