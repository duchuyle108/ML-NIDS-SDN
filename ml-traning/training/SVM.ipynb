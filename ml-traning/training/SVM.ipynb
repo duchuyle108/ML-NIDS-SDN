{
 "cells": [
  {
   "cell_type": "code",
   "execution_count": 1,
   "metadata": {},
   "outputs": [],
   "source": [
    "import pandas as pd\n",
    "import numpy as np\n",
    "import matplotlib.pyplot as plt\n",
    "from sklearn import svm\n",
    "from sklearn import metrics\n",
    "from sklearn.preprocessing import LabelEncoder\n",
    "from sklearn.preprocessing import StandardScaler\n",
    "from sklearn.model_selection import train_test_split"
   ]
  },
  {
   "cell_type": "code",
   "execution_count": 2,
   "metadata": {},
   "outputs": [],
   "source": [
    "data = pd.read_csv(\"../dataset\")"
   ]
  },
  {
   "cell_type": "code",
   "execution_count": 3,
   "metadata": {},
   "outputs": [],
   "source": [
    "x_columns = data.columns.drop('label')\n",
    "x = data[x_columns]\n",
    "x = x.values\n",
    "y = data['label']\n",
    "\n",
    "le_proto = LabelEncoder()\n",
    "x[:, 0] = le_proto.fit_transform(x[:, 0])\n",
    "# le_label = LabelEncoder()\n",
    "# y = le_label.fit_transform(y)\n",
    "sc = StandardScaler()\n",
    "x=sc.fit_transform(x)\n"
   ]
  },
  {
   "cell_type": "code",
   "execution_count": 4,
   "metadata": {},
   "outputs": [
    {
     "data": {
      "text/plain": [
       "SVC(C=1.0, break_ties=False, cache_size=200, class_weight=None, coef0=0.0,\n",
       "    decision_function_shape='ovr', degree=3, gamma='scale', kernel='rbf',\n",
       "    max_iter=-1, probability=False, random_state=None, shrinking=True,\n",
       "    tol=0.001, verbose=False)"
      ]
     },
     "execution_count": 4,
     "metadata": {},
     "output_type": "execute_result"
    }
   ],
   "source": [
    "clf = svm.SVC()\n",
    "\n",
    "clf.fit(x, y)"
   ]
  },
  {
   "cell_type": "code",
   "execution_count": 5,
   "metadata": {},
   "outputs": [
    {
     "name": "stdout",
     "output_type": "stream",
     "text": [
      "Accuracy: 0.9794681925277684\n"
     ]
    }
   ],
   "source": [
    "datatest = pd.read_csv(\"../datatest\")\n",
    "\n",
    "x_columns = datatest.columns.drop('label')\n",
    "x = datatest[x_columns]\n",
    "x = x.values\n",
    "y = datatest['label']\n",
    "\n",
    "x[:, 0] = le_proto.transform(x[:, 0])\n",
    "#joblib.dump(le_proto, '../preproc/le_proto2.joblib',protocol=1) #save label encoder weights to file\n",
    "# y = le_label.fit_transform(y)\n",
    "#joblib.dump(le_label, '../preproc/le_label2.joblib',protocol=1) #save label encoder weights to file\n",
    "x=sc.transform(x)\n",
    "y_pred = clf.predict(x)\n",
    "print(\"Accuracy:\",metrics.accuracy_score(y, y_pred))"
   ]
  },
  {
   "cell_type": "code",
   "execution_count": 6,
   "metadata": {},
   "outputs": [
    {
     "data": {
      "text/plain": [
       "{'normal': {'normal': 1157,\n",
       "  'tcpsynflood': 0,\n",
       "  'icmpflood': 72,\n",
       "  'udpflood': 12,\n",
       "  'ipsweep': 0,\n",
       "  'portscan': 1,\n",
       "  'pingofdeath': 0},\n",
       " 'tcpsynflood': {'normal': 6,\n",
       "  'tcpsynflood': 1039,\n",
       "  'icmpflood': 0,\n",
       "  'udpflood': 0,\n",
       "  'ipsweep': 0,\n",
       "  'portscan': 0,\n",
       "  'pingofdeath': 0},\n",
       " 'icmpflood': {'normal': 0,\n",
       "  'tcpsynflood': 0,\n",
       "  'icmpflood': 793,\n",
       "  'udpflood': 0,\n",
       "  'ipsweep': 0,\n",
       "  'portscan': 0,\n",
       "  'pingofdeath': 0},\n",
       " 'udpflood': {'normal': 0,\n",
       "  'tcpsynflood': 0,\n",
       "  'icmpflood': 0,\n",
       "  'udpflood': 825,\n",
       "  'ipsweep': 0,\n",
       "  'portscan': 1,\n",
       "  'pingofdeath': 0},\n",
       " 'ipsweep': {'normal': 1,\n",
       "  'tcpsynflood': 0,\n",
       "  'icmpflood': 3,\n",
       "  'udpflood': 0,\n",
       "  'ipsweep': 646,\n",
       "  'portscan': 0,\n",
       "  'pingofdeath': 0},\n",
       " 'portscan': {'normal': 16,\n",
       "  'tcpsynflood': 0,\n",
       "  'icmpflood': 0,\n",
       "  'udpflood': 3,\n",
       "  'ipsweep': 0,\n",
       "  'portscan': 899,\n",
       "  'pingofdeath': 0},\n",
       " 'pingofdeath': {'normal': 0,\n",
       "  'tcpsynflood': 0,\n",
       "  'icmpflood': 7,\n",
       "  'udpflood': 0,\n",
       "  'ipsweep': 0,\n",
       "  'portscan': 0,\n",
       "  'pingofdeath': 461}}"
      ]
     },
     "execution_count": 6,
     "metadata": {},
     "output_type": "execute_result"
    }
   ],
   "source": [
    "stats = {}\n",
    "labels = ['normal','tcpsynflood','icmpflood','udpflood','ipsweep','portscan','pingofdeath']\n",
    "for i in labels:\n",
    "    stats[i]={}\n",
    "    for j in labels:\n",
    "        stats[i][j] = 0\n",
    "for i in range(len(y)):\n",
    "    stats[y[i]][y_pred[i]] += 1\n",
    "stats"
   ]
  },
  {
   "cell_type": "code",
   "execution_count": 7,
   "metadata": {},
   "outputs": [
    {
     "name": "stdout",
     "output_type": "stream",
     "text": [
      "TPR: \n",
      " {'normal': 93.15619967793882, 'tcpsynflood': 99.42583732057416, 'icmpflood': 100.0, 'udpflood': 99.87893462469734, 'ipsweep': 99.38461538461539, 'portscan': 97.93028322440087, 'pingofdeath': 98.50427350427351}\n",
      "FRP:\n",
      " {'normal': 0.48936170212765956, 'tcpsynflood': 0.0, 'icmpflood': 1.5925422412118857, 'udpflood': 0.29319781078967944, 'ipsweep': 0.0, 'portscan': 0.039808917197452234, 'pingofdeath': 0.0}\n",
      "F1-score: \n",
      "{'normal': 95.54087530966143, 'tcpsynflood': 99.71209213051824, 'icmpflood': 95.08393285371702, 'udpflood': 99.03961584633852, 'ipsweep': 99.69135802469135, 'portscan': 98.84551951621769, 'pingofdeath': 99.24650161463941}\n",
      "Accuracy: 0.9794681925277684\n"
     ]
    }
   ],
   "source": [
    "tpr={}\n",
    "fpr={}\n",
    "precision={}\n",
    "f1score={}\n",
    "for i in labels:\n",
    "    tp = stats[i][i]\n",
    "    fp = 0\n",
    "    tn = 0\n",
    "    fn = 0\n",
    "    for j in labels:\n",
    "        if i != j:\n",
    "            fn += stats[i][j]\n",
    "            fp += stats[j][i]\n",
    "            for k in stats[j].keys():\n",
    "                if k != i:\n",
    "                    tn += stats[j][k]\n",
    "    tpr[i] = tp / (tp + fn) * 100\n",
    "    fpr[i] = fp / (fp + tn) * 100\n",
    "    precision[i] = tp / (tp + fp) * 100\n",
    "    f1score[i] = 2/(1/tpr[i] + 1/precision[i])\n",
    "print('TPR: \\n ' + str(tpr))\n",
    "print('FRP:\\n ' + str(fpr))\n",
    "# print('Precision:\\n ' + str(precision))\n",
    "print('F1-score: \\n' + str(f1score))\n",
    "\n",
    "\n",
    "print(\"Accuracy:\",metrics.accuracy_score(y, y_pred))"
   ]
  },
  {
   "cell_type": "code",
   "execution_count": null,
   "metadata": {},
   "outputs": [],
   "source": []
  }
 ],
 "metadata": {
  "kernelspec": {
   "display_name": "Python 3",
   "language": "python",
   "name": "python3"
  },
  "language_info": {
   "codemirror_mode": {
    "name": "ipython",
    "version": 3
   },
   "file_extension": ".py",
   "mimetype": "text/x-python",
   "name": "python",
   "nbconvert_exporter": "python",
   "pygments_lexer": "ipython3",
   "version": "3.7.9"
  }
 },
 "nbformat": 4,
 "nbformat_minor": 4
}
